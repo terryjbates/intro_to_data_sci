{
 "metadata": {
  "name": ""
 },
 "nbformat": 3,
 "nbformat_minor": 0,
 "worksheets": [
  {
   "cells": [
    {
     "cell_type": "code",
     "collapsed": false,
     "input": [
      "# import * is a personal choice\n",
      "from ggplot import *\n",
      "# our trusty old friends\n",
      "import pandas as pd\n",
      "import numpy as np"
     ],
     "language": "python",
     "metadata": {},
     "outputs": [],
     "prompt_number": 2
    },
    {
     "cell_type": "code",
     "collapsed": false,
     "input": [
      "%matplotlib inline"
     ],
     "language": "python",
     "metadata": {},
     "outputs": [],
     "prompt_number": 1
    },
    {
     "cell_type": "markdown",
     "metadata": {},
     "source": [
      "## Built in datasets"
     ]
    },
    {
     "cell_type": "code",
     "collapsed": false,
     "input": [
      "meat.head()"
     ],
     "language": "python",
     "metadata": {},
     "outputs": [
      {
       "html": [
        "<div style=\"max-height:1000px;max-width:1500px;overflow:auto;\">\n",
        "<table border=\"1\" class=\"dataframe\">\n",
        "  <thead>\n",
        "    <tr style=\"text-align: right;\">\n",
        "      <th></th>\n",
        "      <th>date</th>\n",
        "      <th>beef</th>\n",
        "      <th>veal</th>\n",
        "      <th>pork</th>\n",
        "      <th>lamb_and_mutton</th>\n",
        "      <th>broilers</th>\n",
        "      <th>other_chicken</th>\n",
        "      <th>turkey</th>\n",
        "    </tr>\n",
        "  </thead>\n",
        "  <tbody>\n",
        "    <tr>\n",
        "      <th>0</th>\n",
        "      <td>1944-01-01</td>\n",
        "      <td> 751</td>\n",
        "      <td>  85</td>\n",
        "      <td> 1280</td>\n",
        "      <td> 89</td>\n",
        "      <td>NaN</td>\n",
        "      <td>NaN</td>\n",
        "      <td>NaN</td>\n",
        "    </tr>\n",
        "    <tr>\n",
        "      <th>1</th>\n",
        "      <td>1944-02-01</td>\n",
        "      <td> 713</td>\n",
        "      <td>  77</td>\n",
        "      <td> 1169</td>\n",
        "      <td> 72</td>\n",
        "      <td>NaN</td>\n",
        "      <td>NaN</td>\n",
        "      <td>NaN</td>\n",
        "    </tr>\n",
        "    <tr>\n",
        "      <th>2</th>\n",
        "      <td>1944-03-01</td>\n",
        "      <td> 741</td>\n",
        "      <td>  90</td>\n",
        "      <td> 1128</td>\n",
        "      <td> 75</td>\n",
        "      <td>NaN</td>\n",
        "      <td>NaN</td>\n",
        "      <td>NaN</td>\n",
        "    </tr>\n",
        "    <tr>\n",
        "      <th>3</th>\n",
        "      <td>1944-04-01</td>\n",
        "      <td> 650</td>\n",
        "      <td>  89</td>\n",
        "      <td>  978</td>\n",
        "      <td> 66</td>\n",
        "      <td>NaN</td>\n",
        "      <td>NaN</td>\n",
        "      <td>NaN</td>\n",
        "    </tr>\n",
        "    <tr>\n",
        "      <th>4</th>\n",
        "      <td>1944-05-01</td>\n",
        "      <td> 681</td>\n",
        "      <td> 106</td>\n",
        "      <td> 1029</td>\n",
        "      <td> 78</td>\n",
        "      <td>NaN</td>\n",
        "      <td>NaN</td>\n",
        "      <td>NaN</td>\n",
        "    </tr>\n",
        "  </tbody>\n",
        "</table>\n",
        "<p>5 rows \u00d7 8 columns</p>\n",
        "</div>"
       ],
       "metadata": {},
       "output_type": "pyout",
       "prompt_number": 3,
       "text": [
        "        date  beef  veal  pork  lamb_and_mutton  broilers  other_chicken  \\\n",
        "0 1944-01-01   751    85  1280               89       NaN            NaN   \n",
        "1 1944-02-01   713    77  1169               72       NaN            NaN   \n",
        "2 1944-03-01   741    90  1128               75       NaN            NaN   \n",
        "3 1944-04-01   650    89   978               66       NaN            NaN   \n",
        "4 1944-05-01   681   106  1029               78       NaN            NaN   \n",
        "\n",
        "   turkey  \n",
        "0     NaN  \n",
        "1     NaN  \n",
        "2     NaN  \n",
        "3     NaN  \n",
        "4     NaN  \n",
        "\n",
        "[5 rows x 8 columns]"
       ]
      }
     ],
     "prompt_number": 3
    },
    {
     "cell_type": "code",
     "collapsed": false,
     "input": [
      "diamonds.head()"
     ],
     "language": "python",
     "metadata": {},
     "outputs": [
      {
       "html": [
        "<div style=\"max-height:1000px;max-width:1500px;overflow:auto;\">\n",
        "<table border=\"1\" class=\"dataframe\">\n",
        "  <thead>\n",
        "    <tr style=\"text-align: right;\">\n",
        "      <th></th>\n",
        "      <th>carat</th>\n",
        "      <th>cut</th>\n",
        "      <th>color</th>\n",
        "      <th>clarity</th>\n",
        "      <th>depth</th>\n",
        "      <th>table</th>\n",
        "      <th>price</th>\n",
        "      <th>x</th>\n",
        "      <th>y</th>\n",
        "      <th>z</th>\n",
        "    </tr>\n",
        "  </thead>\n",
        "  <tbody>\n",
        "    <tr>\n",
        "      <th>0</th>\n",
        "      <td> 0.23</td>\n",
        "      <td>   Ideal</td>\n",
        "      <td> E</td>\n",
        "      <td> SI2</td>\n",
        "      <td> 61.5</td>\n",
        "      <td> 55</td>\n",
        "      <td> 326</td>\n",
        "      <td> 3.95</td>\n",
        "      <td> 3.98</td>\n",
        "      <td> 2.43</td>\n",
        "    </tr>\n",
        "    <tr>\n",
        "      <th>1</th>\n",
        "      <td> 0.21</td>\n",
        "      <td> Premium</td>\n",
        "      <td> E</td>\n",
        "      <td> SI1</td>\n",
        "      <td> 59.8</td>\n",
        "      <td> 61</td>\n",
        "      <td> 326</td>\n",
        "      <td> 3.89</td>\n",
        "      <td> 3.84</td>\n",
        "      <td> 2.31</td>\n",
        "    </tr>\n",
        "    <tr>\n",
        "      <th>2</th>\n",
        "      <td> 0.23</td>\n",
        "      <td>    Good</td>\n",
        "      <td> E</td>\n",
        "      <td> VS1</td>\n",
        "      <td> 56.9</td>\n",
        "      <td> 65</td>\n",
        "      <td> 327</td>\n",
        "      <td> 4.05</td>\n",
        "      <td> 4.07</td>\n",
        "      <td> 2.31</td>\n",
        "    </tr>\n",
        "    <tr>\n",
        "      <th>3</th>\n",
        "      <td> 0.29</td>\n",
        "      <td> Premium</td>\n",
        "      <td> I</td>\n",
        "      <td> VS2</td>\n",
        "      <td> 62.4</td>\n",
        "      <td> 58</td>\n",
        "      <td> 334</td>\n",
        "      <td> 4.20</td>\n",
        "      <td> 4.23</td>\n",
        "      <td> 2.63</td>\n",
        "    </tr>\n",
        "    <tr>\n",
        "      <th>4</th>\n",
        "      <td> 0.31</td>\n",
        "      <td>    Good</td>\n",
        "      <td> J</td>\n",
        "      <td> SI2</td>\n",
        "      <td> 63.3</td>\n",
        "      <td> 58</td>\n",
        "      <td> 335</td>\n",
        "      <td> 4.34</td>\n",
        "      <td> 4.35</td>\n",
        "      <td> 2.75</td>\n",
        "    </tr>\n",
        "  </tbody>\n",
        "</table>\n",
        "<p>5 rows \u00d7 10 columns</p>\n",
        "</div>"
       ],
       "metadata": {},
       "output_type": "pyout",
       "prompt_number": 4,
       "text": [
        "   carat      cut color clarity  depth  table  price     x     y     z\n",
        "0   0.23    Ideal     E     SI2   61.5     55    326  3.95  3.98  2.43\n",
        "1   0.21  Premium     E     SI1   59.8     61    326  3.89  3.84  2.31\n",
        "2   0.23     Good     E     VS1   56.9     65    327  4.05  4.07  2.31\n",
        "3   0.29  Premium     I     VS2   62.4     58    334  4.20  4.23  2.63\n",
        "4   0.31     Good     J     SI2   63.3     58    335  4.34  4.35  2.75\n",
        "\n",
        "[5 rows x 10 columns]"
       ]
      }
     ],
     "prompt_number": 4
    },
    {
     "cell_type": "code",
     "collapsed": false,
     "input": [
      "mtcars.head()"
     ],
     "language": "python",
     "metadata": {},
     "outputs": [
      {
       "html": [
        "<div style=\"max-height:1000px;max-width:1500px;overflow:auto;\">\n",
        "<table border=\"1\" class=\"dataframe\">\n",
        "  <thead>\n",
        "    <tr style=\"text-align: right;\">\n",
        "      <th></th>\n",
        "      <th>name</th>\n",
        "      <th>mpg</th>\n",
        "      <th>cyl</th>\n",
        "      <th>disp</th>\n",
        "      <th>hp</th>\n",
        "      <th>drat</th>\n",
        "      <th>wt</th>\n",
        "      <th>qsec</th>\n",
        "      <th>vs</th>\n",
        "      <th>am</th>\n",
        "      <th>gear</th>\n",
        "      <th>carb</th>\n",
        "    </tr>\n",
        "  </thead>\n",
        "  <tbody>\n",
        "    <tr>\n",
        "      <th>0</th>\n",
        "      <td>         Mazda RX4</td>\n",
        "      <td> 21.0</td>\n",
        "      <td> 6</td>\n",
        "      <td> 160</td>\n",
        "      <td> 110</td>\n",
        "      <td> 3.90</td>\n",
        "      <td> 2.620</td>\n",
        "      <td> 16.46</td>\n",
        "      <td> 0</td>\n",
        "      <td> 1</td>\n",
        "      <td> 4</td>\n",
        "      <td> 4</td>\n",
        "    </tr>\n",
        "    <tr>\n",
        "      <th>1</th>\n",
        "      <td>     Mazda RX4 Wag</td>\n",
        "      <td> 21.0</td>\n",
        "      <td> 6</td>\n",
        "      <td> 160</td>\n",
        "      <td> 110</td>\n",
        "      <td> 3.90</td>\n",
        "      <td> 2.875</td>\n",
        "      <td> 17.02</td>\n",
        "      <td> 0</td>\n",
        "      <td> 1</td>\n",
        "      <td> 4</td>\n",
        "      <td> 4</td>\n",
        "    </tr>\n",
        "    <tr>\n",
        "      <th>2</th>\n",
        "      <td>        Datsun 710</td>\n",
        "      <td> 22.8</td>\n",
        "      <td> 4</td>\n",
        "      <td> 108</td>\n",
        "      <td>  93</td>\n",
        "      <td> 3.85</td>\n",
        "      <td> 2.320</td>\n",
        "      <td> 18.61</td>\n",
        "      <td> 1</td>\n",
        "      <td> 1</td>\n",
        "      <td> 4</td>\n",
        "      <td> 1</td>\n",
        "    </tr>\n",
        "    <tr>\n",
        "      <th>3</th>\n",
        "      <td>    Hornet 4 Drive</td>\n",
        "      <td> 21.4</td>\n",
        "      <td> 6</td>\n",
        "      <td> 258</td>\n",
        "      <td> 110</td>\n",
        "      <td> 3.08</td>\n",
        "      <td> 3.215</td>\n",
        "      <td> 19.44</td>\n",
        "      <td> 1</td>\n",
        "      <td> 0</td>\n",
        "      <td> 3</td>\n",
        "      <td> 1</td>\n",
        "    </tr>\n",
        "    <tr>\n",
        "      <th>4</th>\n",
        "      <td> Hornet Sportabout</td>\n",
        "      <td> 18.7</td>\n",
        "      <td> 8</td>\n",
        "      <td> 360</td>\n",
        "      <td> 175</td>\n",
        "      <td> 3.15</td>\n",
        "      <td> 3.440</td>\n",
        "      <td> 17.02</td>\n",
        "      <td> 0</td>\n",
        "      <td> 0</td>\n",
        "      <td> 3</td>\n",
        "      <td> 2</td>\n",
        "    </tr>\n",
        "  </tbody>\n",
        "</table>\n",
        "<p>5 rows \u00d7 12 columns</p>\n",
        "</div>"
       ],
       "metadata": {},
       "output_type": "pyout",
       "prompt_number": 5,
       "text": [
        "                name   mpg  cyl  disp   hp  drat     wt   qsec  vs  am  gear  \\\n",
        "0          Mazda RX4  21.0    6   160  110  3.90  2.620  16.46   0   1     4   \n",
        "1      Mazda RX4 Wag  21.0    6   160  110  3.90  2.875  17.02   0   1     4   \n",
        "2         Datsun 710  22.8    4   108   93  3.85  2.320  18.61   1   1     4   \n",
        "3     Hornet 4 Drive  21.4    6   258  110  3.08  3.215  19.44   1   0     3   \n",
        "4  Hornet Sportabout  18.7    8   360  175  3.15  3.440  17.02   0   0     3   \n",
        "\n",
        "   carb  \n",
        "0     4  \n",
        "1     4  \n",
        "2     1  \n",
        "3     1  \n",
        "4     2  \n",
        "\n",
        "[5 rows x 12 columns]"
       ]
      }
     ],
     "prompt_number": 5
    },
    {
     "cell_type": "code",
     "collapsed": false,
     "input": [
      "pageviews.head()"
     ],
     "language": "python",
     "metadata": {},
     "outputs": [
      {
       "html": [
        "<div style=\"max-height:1000px;max-width:1500px;overflow:auto;\">\n",
        "<table border=\"1\" class=\"dataframe\">\n",
        "  <thead>\n",
        "    <tr style=\"text-align: right;\">\n",
        "      <th></th>\n",
        "      <th>date_hour</th>\n",
        "      <th>pageviews</th>\n",
        "    </tr>\n",
        "  </thead>\n",
        "  <tbody>\n",
        "    <tr>\n",
        "      <th>0</th>\n",
        "      <td>2013-02-11 21:00:00</td>\n",
        "      <td> 8860.982383</td>\n",
        "    </tr>\n",
        "    <tr>\n",
        "      <th>1</th>\n",
        "      <td>2013-02-11 22:00:00</td>\n",
        "      <td> 8637.474753</td>\n",
        "    </tr>\n",
        "    <tr>\n",
        "      <th>2</th>\n",
        "      <td>2013-02-11 23:00:00</td>\n",
        "      <td> 9020.593099</td>\n",
        "    </tr>\n",
        "    <tr>\n",
        "      <th>3</th>\n",
        "      <td>2013-02-12 00:00:00</td>\n",
        "      <td> 8437.500380</td>\n",
        "    </tr>\n",
        "    <tr>\n",
        "      <th>4</th>\n",
        "      <td>2013-02-12 01:00:00</td>\n",
        "      <td> 9157.399672</td>\n",
        "    </tr>\n",
        "  </tbody>\n",
        "</table>\n",
        "</div>"
       ],
       "metadata": {},
       "output_type": "pyout",
       "prompt_number": 7,
       "text": [
        "            date_hour    pageviews\n",
        "0 2013-02-11 21:00:00  8860.982383\n",
        "1 2013-02-11 22:00:00  8637.474753\n",
        "2 2013-02-11 23:00:00  9020.593099\n",
        "3 2013-02-12 00:00:00  8437.500380\n",
        "4 2013-02-12 01:00:00  9157.399672"
       ]
      }
     ],
     "prompt_number": 7
    },
    {
     "cell_type": "markdown",
     "metadata": {},
     "source": [
      "## The API\n",
      "\n",
      "### `ggplot`\n",
      "`ggplot`'s API revolves around the `ggplot` class. It's class that behaves much more like a function (you don't really operate on `ggplot` methods). "
     ]
    },
    {
     "cell_type": "code",
     "collapsed": false,
     "input": [
      "?ggplot"
     ],
     "language": "python",
     "metadata": {},
     "outputs": [],
     "prompt_number": 9
    },
    {
     "cell_type": "markdown",
     "metadata": {},
     "source": [
      "ggplots take 2 arguments: a data frame and accompanying \"aesthetics\" or `aes`. These are equivalent."
     ]
    },
    {
     "cell_type": "code",
     "collapsed": false,
     "input": [
      "p = ggplot(aes(x='wt'), data=mtcars)"
     ],
     "language": "python",
     "metadata": {},
     "outputs": [],
     "prompt_number": 6
    },
    {
     "cell_type": "code",
     "collapsed": false,
     "input": [
      "p = ggplot(mtcars, aes(x='wt'))"
     ],
     "language": "python",
     "metadata": {},
     "outputs": [],
     "prompt_number": 7
    },
    {
     "cell_type": "markdown",
     "metadata": {},
     "source": [
      "A ggplot is a \"base layer\". It won't create any aesthetics but think of it as a canvas. Watch what happens when you render it."
     ]
    },
    {
     "cell_type": "code",
     "collapsed": false,
     "input": [
      "p"
     ],
     "language": "python",
     "metadata": {},
     "outputs": [
      {
       "metadata": {},
       "output_type": "display_data",
       "png": "[encoded data removed]",
       "text": [
        "<matplotlib.figure.Figure at 0x10c214350>"
       ]
      },
      {
       "metadata": {},
       "output_type": "pyout",
       "prompt_number": 8,
       "text": [
        "<ggplot: (281151189)>"
       ]
      }
     ],
     "prompt_number": 8
    },
    {
     "cell_type": "markdown",
     "metadata": {},
     "source": [
      "### `aes`\n",
      "Aesthetics or `aes` define how ggplot with extract data from your data frame and render it. Think of it as the instructions for creating x, y, color, etc. components.\n",
      "\n",
      "`aes` is just a dictionary with keys being an aesthetic property and values being strings or formulas--for more on formulas read [this]( http://patsy.readthedocs.org/en/v0.1.0/formulas.html)--relating to data in your data frame."
     ]
    },
    {
     "cell_type": "code",
     "collapsed": false,
     "input": [
      "aes(x='date', y='price')"
     ],
     "language": "python",
     "metadata": {},
     "outputs": [
      {
       "metadata": {},
       "output_type": "pyout",
       "prompt_number": 9,
       "text": [
        "{'y': 'price', 'x': 'date'}"
       ]
      }
     ],
     "prompt_number": 9
    },
    {
     "cell_type": "code",
     "collapsed": false,
     "input": [
      "# shorthand\n",
      "aes('date', 'price')"
     ],
     "language": "python",
     "metadata": {},
     "outputs": [
      {
       "metadata": {},
       "output_type": "pyout",
       "prompt_number": 10,
       "text": [
        "{u'y': 'price', u'x': 'date'}"
       ]
      }
     ],
     "prompt_number": 10
    },
    {
     "cell_type": "code",
     "collapsed": false,
     "input": [
      "# shorthand\n",
      "aes('date', 'price', 'name')"
     ],
     "language": "python",
     "metadata": {},
     "outputs": [
      {
       "metadata": {},
       "output_type": "pyout",
       "prompt_number": 11,
       "text": [
        "{u'y': 'price', u'x': 'date', u'color': 'name'}"
       ]
      }
     ],
     "prompt_number": 11
    },
    {
     "cell_type": "code",
     "collapsed": false,
     "input": [
      "# formula\n",
      "aes(x='date', y='price', color='date * price', shape='factor(name)')"
     ],
     "language": "python",
     "metadata": {},
     "outputs": [
      {
       "metadata": {},
       "output_type": "pyout",
       "prompt_number": 12,
       "text": [
        "{'color': 'date * price', 'y': 'price', 'shape': 'factor(name)', 'x': 'date'}"
       ]
      }
     ],
     "prompt_number": 12
    },
    {
     "cell_type": "markdown",
     "metadata": {},
     "source": [
      "## Your first `ggplot`\n",
      "\n",
      "So taking everything that we've learned, let's use the `mtcars` dataset to plot the relationship between car weight (`wt`) and miles per gallon (`mpg`). First create a `ggplot` object with the proper `aes` and name it `p`."
     ]
    },
    {
     "cell_type": "code",
     "collapsed": false,
     "input": [
      "p = ggplot(aes(x='wt', y='mpg'), data=mtcars)\n",
      "p"
     ],
     "language": "python",
     "metadata": {},
     "outputs": [
      {
       "metadata": {},
       "output_type": "display_data",
       "png": "[encoded data removed]",
       "text": [
        "<matplotlib.figure.Figure at 0x1061d0450>"
       ]
      },
      {
       "metadata": {},
       "output_type": "pyout",
       "prompt_number": 30,
       "text": [
        "<ggplot: (274847889)>"
       ]
      }
     ],
     "prompt_number": 30
    },
    {
     "cell_type": "markdown",
     "metadata": {},
     "source": [
      "Now let's (quite literally) add a scatterplot (`geom_point`) to our plot. We'll get into more detail on how this works later."
     ]
    },
    {
     "cell_type": "code",
     "collapsed": false,
     "input": [
      "p + geom_point()"
     ],
     "language": "python",
     "metadata": {},
     "outputs": [
      {
       "metadata": {},
       "output_type": "display_data",
       "png": "[encoded data removed]",
       "text": [
        "<matplotlib.figure.Figure at 0x106430290>"
       ]
      },
      {
       "metadata": {},
       "output_type": "pyout",
       "prompt_number": 31,
       "text": [
        "<ggplot: (275439357)>"
       ]
      }
     ],
     "prompt_number": 31
    },
    {
     "cell_type": "code",
     "collapsed": false,
     "input": [],
     "language": "python",
     "metadata": {},
     "outputs": []
    }
   ],
   "metadata": {}
  }
 ]
}